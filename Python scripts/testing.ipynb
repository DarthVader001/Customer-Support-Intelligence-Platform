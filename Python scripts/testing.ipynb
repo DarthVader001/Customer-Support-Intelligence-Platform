{
 "cells": [
  {
   "cell_type": "code",
   "execution_count": 1,
   "id": "084e2372-cc5c-4597-b225-ef20c5e81b2a",
   "metadata": {},
   "outputs": [],
   "source": [
    "import pandas as pd\n",
    "import numpy as np\n",
    "import matplotlib.pyplot as plt\n",
    "import seaborn as sns\n",
    "from scipy import stats\n",
    "from statsmodels.stats.proportion import proportions_ztest\n"
   ]
  },
  {
   "cell_type": "code",
   "execution_count": 2,
   "id": "d75edaac-7326-465c-9039-0a68f1fa8a85",
   "metadata": {},
   "outputs": [
    {
     "name": "stdout",
     "output_type": "stream",
     "text": [
      "(999, 15)\n",
      "Index(['Ticket_ID', 'Created_At', 'Channel', 'Response_Time_Minutes',\n",
      "       'Resolution_Time_Minutes', 'CSAT_Score', 'Issue_Type', 'Day', 'Month',\n",
      "       'Weekday', 'Daily_Ticket_Count', 'Channel_Code', 'Issue_Code',\n",
      "       'Resolution_Category', 'CSAT_Binary'],\n",
      "      dtype='object')\n"
     ]
    },
    {
     "data": {
      "text/html": [
       "<div>\n",
       "<style scoped>\n",
       "    .dataframe tbody tr th:only-of-type {\n",
       "        vertical-align: middle;\n",
       "    }\n",
       "\n",
       "    .dataframe tbody tr th {\n",
       "        vertical-align: top;\n",
       "    }\n",
       "\n",
       "    .dataframe thead th {\n",
       "        text-align: right;\n",
       "    }\n",
       "</style>\n",
       "<table border=\"1\" class=\"dataframe\">\n",
       "  <thead>\n",
       "    <tr style=\"text-align: right;\">\n",
       "      <th></th>\n",
       "      <th>Ticket_ID</th>\n",
       "      <th>Created_At</th>\n",
       "      <th>Channel</th>\n",
       "      <th>Response_Time_Minutes</th>\n",
       "      <th>Resolution_Time_Minutes</th>\n",
       "      <th>CSAT_Score</th>\n",
       "      <th>Issue_Type</th>\n",
       "      <th>Day</th>\n",
       "      <th>Month</th>\n",
       "      <th>Weekday</th>\n",
       "      <th>Daily_Ticket_Count</th>\n",
       "      <th>Channel_Code</th>\n",
       "      <th>Issue_Code</th>\n",
       "      <th>Resolution_Category</th>\n",
       "      <th>CSAT_Binary</th>\n",
       "    </tr>\n",
       "  </thead>\n",
       "  <tbody>\n",
       "    <tr>\n",
       "      <th>0</th>\n",
       "      <td>T0001</td>\n",
       "      <td>21-02-2025</td>\n",
       "      <td>Live Agent</td>\n",
       "      <td>4</td>\n",
       "      <td>175</td>\n",
       "      <td>3</td>\n",
       "      <td>Ride Cancellation</td>\n",
       "      <td>21</td>\n",
       "      <td>2</td>\n",
       "      <td>Friday</td>\n",
       "      <td>13</td>\n",
       "      <td>1</td>\n",
       "      <td>5</td>\n",
       "      <td>Slow</td>\n",
       "      <td>0</td>\n",
       "    </tr>\n",
       "    <tr>\n",
       "      <th>1</th>\n",
       "      <td>T0002</td>\n",
       "      <td>15-01-2025</td>\n",
       "      <td>Live Agent</td>\n",
       "      <td>7</td>\n",
       "      <td>15</td>\n",
       "      <td>4</td>\n",
       "      <td>Lost Item</td>\n",
       "      <td>15</td>\n",
       "      <td>1</td>\n",
       "      <td>Wednesday</td>\n",
       "      <td>11</td>\n",
       "      <td>1</td>\n",
       "      <td>3</td>\n",
       "      <td>Fast</td>\n",
       "      <td>1</td>\n",
       "    </tr>\n",
       "    <tr>\n",
       "      <th>2</th>\n",
       "      <td>T0003</td>\n",
       "      <td>13-03-2025</td>\n",
       "      <td>Live Agent</td>\n",
       "      <td>8</td>\n",
       "      <td>162</td>\n",
       "      <td>4</td>\n",
       "      <td>Account Access</td>\n",
       "      <td>13</td>\n",
       "      <td>3</td>\n",
       "      <td>Thursday</td>\n",
       "      <td>9</td>\n",
       "      <td>1</td>\n",
       "      <td>0</td>\n",
       "      <td>Slow</td>\n",
       "      <td>1</td>\n",
       "    </tr>\n",
       "    <tr>\n",
       "      <th>3</th>\n",
       "      <td>T0004</td>\n",
       "      <td>02-03-2025</td>\n",
       "      <td>Live Agent</td>\n",
       "      <td>17</td>\n",
       "      <td>154</td>\n",
       "      <td>2</td>\n",
       "      <td>Lost Item</td>\n",
       "      <td>2</td>\n",
       "      <td>3</td>\n",
       "      <td>Sunday</td>\n",
       "      <td>12</td>\n",
       "      <td>1</td>\n",
       "      <td>3</td>\n",
       "      <td>Slow</td>\n",
       "      <td>0</td>\n",
       "    </tr>\n",
       "    <tr>\n",
       "      <th>4</th>\n",
       "      <td>T0005</td>\n",
       "      <td>21-01-2025</td>\n",
       "      <td>Chatbot</td>\n",
       "      <td>5</td>\n",
       "      <td>70</td>\n",
       "      <td>5</td>\n",
       "      <td>Lost Item</td>\n",
       "      <td>21</td>\n",
       "      <td>1</td>\n",
       "      <td>Tuesday</td>\n",
       "      <td>11</td>\n",
       "      <td>0</td>\n",
       "      <td>3</td>\n",
       "      <td>Slow</td>\n",
       "      <td>1</td>\n",
       "    </tr>\n",
       "  </tbody>\n",
       "</table>\n",
       "</div>"
      ],
      "text/plain": [
       "  Ticket_ID  Created_At     Channel  Response_Time_Minutes  \\\n",
       "0     T0001  21-02-2025  Live Agent                      4   \n",
       "1     T0002  15-01-2025  Live Agent                      7   \n",
       "2     T0003  13-03-2025  Live Agent                      8   \n",
       "3     T0004  02-03-2025  Live Agent                     17   \n",
       "4     T0005  21-01-2025     Chatbot                      5   \n",
       "\n",
       "   Resolution_Time_Minutes  CSAT_Score         Issue_Type  Day  Month  \\\n",
       "0                      175           3  Ride Cancellation   21      2   \n",
       "1                       15           4          Lost Item   15      1   \n",
       "2                      162           4     Account Access   13      3   \n",
       "3                      154           2          Lost Item    2      3   \n",
       "4                       70           5          Lost Item   21      1   \n",
       "\n",
       "     Weekday  Daily_Ticket_Count  Channel_Code  Issue_Code  \\\n",
       "0     Friday                  13             1           5   \n",
       "1  Wednesday                  11             1           3   \n",
       "2   Thursday                   9             1           0   \n",
       "3     Sunday                  12             1           3   \n",
       "4    Tuesday                  11             0           3   \n",
       "\n",
       "  Resolution_Category  CSAT_Binary  \n",
       "0                Slow            0  \n",
       "1                Fast            1  \n",
       "2                Slow            1  \n",
       "3                Slow            0  \n",
       "4                Slow            1  "
      ]
     },
     "execution_count": 2,
     "metadata": {},
     "output_type": "execute_result"
    }
   ],
   "source": [
    "df = pd.read_csv(\"Uber_Customer_Support_Tickets_Prepared.csv\")\n",
    "print(df.shape)     # rows, columns\n",
    "print(df.columns)   # column names\n",
    "df.head()           # view first 5 rows"
   ]
  },
  {
   "cell_type": "markdown",
   "id": "f9dd711a-6443-4fea-8728-16496afc3672",
   "metadata": {},
   "source": [
    "DATA SPLIT IN 2 GROUPS"
   ]
  },
  {
   "cell_type": "code",
   "execution_count": 3,
   "id": "8868ad91-8765-4c97-b4d4-9b56a7d01978",
   "metadata": {},
   "outputs": [
    {
     "name": "stdout",
     "output_type": "stream",
     "text": [
      "604 394\n"
     ]
    }
   ],
   "source": [
    "chatbot_scores = df[df[\"Channel\"] == \"Chatbot\"][\"CSAT_Score\"].dropna()\n",
    "agent_scores   = df[df[\"Channel\"] == \"Live Agent\"][\"CSAT_Score\"].dropna()\n",
    "\n",
    "chatbot_bin = df[df[\"Channel\"] == \"Chatbot\"][\"CSAT_Binary\"].dropna()\n",
    "agent_bin   = df[df[\"Channel\"] == \"Live Agent\"][\"CSAT_Binary\"].dropna()\n",
    "\n",
    "print(len(chatbot_scores), len(agent_scores))\n"
   ]
  },
  {
   "cell_type": "code",
   "execution_count": 4,
   "id": "890f356e-a39f-4980-bbde-c9f0fc499bf8",
   "metadata": {},
   "outputs": [
    {
     "name": "stdout",
     "output_type": "stream",
     "text": [
      "Chatbot: (np.int64(604), np.float64(3.693708609271523), 1.1005321287269438, 4.0, 1, 5)\n",
      "Agent:   (np.int64(394), np.float64(3.6776649746192893), 1.046092270117514, 4.0, 1, 5)\n"
     ]
    }
   ],
   "source": [
    "#summary\n",
    "def summary(series):\n",
    "    return series.count(), series.mean(), series.std(), series.median(), series.min(), series.max()\n",
    "\n",
    "print(\"Chatbot:\", summary(chatbot_scores))\n",
    "print(\"Agent:  \", summary(agent_scores))\n"
   ]
  },
  {
   "cell_type": "code",
   "execution_count": 5,
   "id": "16c70f85-5a16-45a3-869f-03a92397f3c6",
   "metadata": {},
   "outputs": [],
   "source": [
    "#plot"
   ]
  },
  {
   "cell_type": "code",
   "execution_count": 6,
   "id": "e137ad99-8f78-41d7-9104-5cc5c142935a",
   "metadata": {},
   "outputs": [
    {
     "data": {
      "image/png": "[encoded data removed]",
      "text/plain": [
       "<Figure size 640x480 with 1 Axes>"
      ]
     },
     "metadata": {},
     "output_type": "display_data"
    },
    {
     "data": {
      "image/png": "[encoded data removed]",
      "text/plain": [
       "<Figure size 640x480 with 1 Axes>"
      ]
     },
     "metadata": {},
     "output_type": "display_data"
    },
    {
     "data": {
      "image/png": "[encoded data removed]",
      "text/plain": [
       "<Figure size 640x480 with 1 Axes>"
      ]
     },
     "metadata": {},
     "output_type": "display_data"
    }
   ],
   "source": [
    "sns.histplot(chatbot_scores, bins=5).set(title=\"Chatbot CSAT\")\n",
    "plt.show()\n",
    "\n",
    "sns.histplot(agent_scores, bins=5).set(title=\"Agent CSAT\")\n",
    "plt.show()\n",
    "\n",
    "sns.boxplot(x=\"Channel\", y=\"CSAT_Score\", data=df[df[\"Channel\"].isin([\"Chatbot\",\"Live Agent\"])])\n",
    "plt.title(\"CSAT by Channel\")\n",
    "plt.show()\n"
   ]
  },
  {
   "cell_type": "code",
   "execution_count": 7,
   "id": "2a908217-6cfa-46cd-bb56-30764516551e",
   "metadata": {},
   "outputs": [
    {
     "name": "stdout",
     "output_type": "stream",
     "text": [
      "Shapiro Chatbot p: 1.137547017943498e-19\n",
      "Shapiro Agent  p: 7.592165544281522e-18\n",
      "Levene p (equal variances?): 0.16167954238328539\n"
     ]
    }
   ],
   "source": [
    "# For large groups, test on a sample because Shapiro is slow\n",
    "samp_chat = chatbot_scores.sample(n=min(500,len(chatbot_scores)), random_state=1)\n",
    "samp_agent = agent_scores.sample(n=min(500,len(agent_scores)), random_state=1)\n",
    "\n",
    "print(\"Shapiro Chatbot p:\", stats.shapiro(samp_chat)[1])\n",
    "print(\"Shapiro Agent  p:\", stats.shapiro(samp_agent)[1])\n",
    "\n",
    "levene_stat, levene_p = stats.levene(chatbot_scores, agent_scores)\n",
    "print(\"Levene p (equal variances?):\", levene_p)\n"
   ]
  },
  {
   "cell_type": "code",
   "execution_count": 8,
   "id": "bdb68a13-442c-4d92-a128-0ffac38d1ead",
   "metadata": {},
   "outputs": [],
   "source": [
    "#t-test ( compare means)"
   ]
  },
  {
   "cell_type": "code",
   "execution_count": 9,
   "id": "e9f3f13c-876c-498c-9636-e9fd891dad11",
   "metadata": {},
   "outputs": [
    {
     "name": "stdout",
     "output_type": "stream",
     "text": [
      "t-statistic: 0.23198874619596316 p-value: 0.8166013213443114\n"
     ]
    }
   ],
   "source": [
    "t_stat, p_val = stats.ttest_ind(chatbot_scores, agent_scores, equal_var=False)\n",
    "print(\"t-statistic:\", t_stat, \"p-value:\", p_val)"
   ]
  },
  {
   "cell_type": "code",
   "execution_count": 10,
   "id": "999a2ce9-469d-4a05-bf48-7537c5811150",
   "metadata": {},
   "outputs": [],
   "source": [
    "#Cohen's d"
   ]
  },
  {
   "cell_type": "code",
   "execution_count": 11,
   "id": "1070811a-dd5a-4221-8fad-cc3ca67d22cd",
   "metadata": {},
   "outputs": [
    {
     "name": "stdout",
     "output_type": "stream",
     "text": [
      "Cohen's d: 0.014863759099682074\n"
     ]
    }
   ],
   "source": [
    "def cohens_d(a,b):\n",
    "    na, nb = len(a), len(b)\n",
    "    pooled_sd = np.sqrt(((na-1)*a.std(ddof=1)**2 + (nb-1)*b.std(ddof=1)**2) / (na+nb-2))\n",
    "    return (a.mean() - b.mean()) / pooled_sd\n",
    "\n",
    "print(\"Cohen's d:\", cohens_d(chatbot_scores, agent_scores))\n"
   ]
  },
  {
   "cell_type": "code",
   "execution_count": 12,
   "id": "a2b1980d-4aa2-4ef0-a91e-3d525f84fa6b",
   "metadata": {},
   "outputs": [],
   "source": [
    "#Mann-Whitney U"
   ]
  },
  {
   "cell_type": "code",
   "execution_count": 13,
   "id": "d5a8aef1-a832-43b9-9030-5ea0161b7114",
   "metadata": {},
   "outputs": [
    {
     "name": "stdout",
     "output_type": "stream",
     "text": [
      "Mann-Whitney U p: 0.6744033646199341\n"
     ]
    }
   ],
   "source": [
    "u_stat, p_mw = stats.mannwhitneyu(chatbot_scores, agent_scores, alternative=\"two-sided\")\n",
    "print(\"Mann-Whitney U p:\", p_mw)\n"
   ]
  },
  {
   "cell_type": "code",
   "execution_count": 14,
   "id": "6e77a82a-9083-420d-b7e0-81920d2212b3",
   "metadata": {},
   "outputs": [],
   "source": [
    "#binary csat"
   ]
  },
  {
   "cell_type": "code",
   "execution_count": 15,
   "id": "49b75933-e4d9-4563-9881-3394f414b69a",
   "metadata": {},
   "outputs": [
    {
     "name": "stdout",
     "output_type": "stream",
     "text": [
      "z-stat: -0.6381797737356251 p-value: 0.52335666202326\n",
      "Chatbot CI: (np.float64(0.5939999320432622), np.float64(0.6709007302083935))\n",
      "Agent CI:   (np.float64(0.6052590691321199), np.float64(0.6993094587866618))\n"
     ]
    }
   ],
   "source": [
    "count = np.array([chatbot_bin.sum(), agent_bin.sum()])\n",
    "nobs  = np.array([len(chatbot_bin), len(agent_bin)])\n",
    "stat, pval = proportions_ztest(count, nobs)\n",
    "print(\"z-stat:\", stat, \"p-value:\", pval)\n",
    "\n",
    "# approximate 95% CI for each proportion\n",
    "def prop_ci(successes, n, alpha=0.05):\n",
    "    p = successes/n\n",
    "    z = stats.norm.ppf(1-alpha/2)\n",
    "    se = np.sqrt(p*(1-p)/n)\n",
    "    return p - z*se, p + z*se\n",
    "\n",
    "print(\"Chatbot CI:\", prop_ci(count[0], nobs[0]))\n",
    "print(\"Agent CI:  \", prop_ci(count[1], nobs[1]))\n"
   ]
  },
  {
   "cell_type": "code",
   "execution_count": 16,
   "id": "a533bab5-aa4b-4f29-819c-0c1d7f5be75f",
   "metadata": {},
   "outputs": [],
   "source": [
    "#conclusion"
   ]
  },
  {
   "cell_type": "code",
   "execution_count": 17,
   "id": "e4f07248-c473-46ad-a9b8-6be9e68d4ab9",
   "metadata": {},
   "outputs": [
    {
     "name": "stdout",
     "output_type": "stream",
     "text": [
      "T-test: no significant difference in average CSAT (p=0.817). Cohen's d=0.01.\n",
      "Proportions: no significant difference in happy-rate (p=0.523).\n"
     ]
    }
   ],
   "source": [
    "alpha = 0.05\n",
    "if p_val < alpha:\n",
    "    print(f\"T-test: average CSAT differs (p={p_val:.3f}). Cohen's d={cohens_d(chatbot_scores, agent_scores):.2f}.\")\n",
    "else:\n",
    "    print(f\"T-test: no significant difference in average CSAT (p={p_val:.3f}). Cohen's d={cohens_d(chatbot_scores, agent_scores):.2f}.\")\n",
    "if pval < alpha:\n",
    "    print(f\"Proportions: happy-rate differs (p={pval:.3f}).\")\n",
    "else:\n",
    "    print(f\"Proportions: no significant difference in happy-rate (p={pval:.3f}).\")\n"
   ]
  },
  {
   "cell_type": "code",
   "execution_count": null,
   "id": "8335074d-26af-4a2b-994c-2de4f7ff1620",
   "metadata": {},
   "outputs": [],
   "source": []
  }
 ],
 "metadata": {
  "kernelspec": {
   "display_name": "Python [conda env:base] *",
   "language": "python",
   "name": "conda-base-py"
  },
  "language_info": {
   "codemirror_mode": {
    "name": "ipython",
    "version": 3
   },
   "file_extension": ".py",
   "mimetype": "text/x-python",
   "name": "python",
   "nbconvert_exporter": "python",
   "pygments_lexer": "ipython3",
   "version": "3.13.5"
  }
 },
 "nbformat": 4,
 "nbformat_minor": 5
}
